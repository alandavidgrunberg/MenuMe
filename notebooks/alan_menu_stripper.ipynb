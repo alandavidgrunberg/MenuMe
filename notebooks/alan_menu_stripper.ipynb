{
 "cells": [
  {
   "cell_type": "code",
   "execution_count": null,
   "id": "be98195a",
   "metadata": {},
   "outputs": [],
   "source": [
    "chars_to_remove = '0123456789!\"\\'#$%&()*+,-./:;<=>?@[\\]^_`{|}~♦●★‒…£¡™¢∞§¶•ªº–≠≠œ∑´®†¥¨≤≥÷ç√€'\n",
    "\n",
    "words_to_remove = ['serve','served','serving','appetizer','appetizers','course','price']\n",
    "\n",
    "drop_words = ['menu','bill','tax','consumer','advisory']\n",
    "\n",
    "def strip(response):\n",
    "    text = response.text_annotations[0].description\n",
    "    menu_original = text.split('\\n')\n",
    "    \n",
    "    menu_chars_removed = []\n",
    "    for item in menu_original:\n",
    "        for char in chars_to_remove:\n",
    "            item = item.replace(char,'')\n",
    "        menu_chars_removed.append(item)\n",
    "        \n",
    "    menu_words_removed = []\n",
    "    for item in menu_chars_removed:\n",
    "        temporary = []\n",
    "        for word in item.split(' '):\n",
    "            if word.lower() not in words_to_remove:\n",
    "                temporary.append(word)\n",
    "        words_removed = ' '.join(temporary)\n",
    "        menu_words_removed.append(words_removed)\n",
    "        \n",
    "    menu_entries_dropped = []\n",
    "    for item in menu_words_removed:\n",
    "        temporary = []\n",
    "        for word in item.split(' '):\n",
    "            if word.lower() in drop_words:\n",
    "                temporary = []\n",
    "                pass\n",
    "            else:\n",
    "                temporary.append(word)\n",
    "        entries_dropped = ' '.join(temporary)\n",
    "        menu_entries_dropped.append(entries_dropped)\n",
    "                  \n",
    "    menu_entries_dropped = [item for item in menu_entries_dropped if len(item)>4]\n",
    "    stripped_menu = menu_entries_dropped\n",
    "   \n",
    "    print(menu_original)\n",
    "    print()\n",
    "    print(stripped_menu)"
   ]
  }
 ],
 "metadata": {
  "kernelspec": {
   "display_name": "Python 3 (ipykernel)",
   "language": "python",
   "name": "python3"
  },
  "language_info": {
   "codemirror_mode": {
    "name": "ipython",
    "version": 3
   },
   "file_extension": ".py",
   "mimetype": "text/x-python",
   "name": "python",
   "nbconvert_exporter": "python",
   "pygments_lexer": "ipython3",
   "version": "3.8.12"
  },
  "toc": {
   "base_numbering": 1,
   "nav_menu": {},
   "number_sections": true,
   "sideBar": true,
   "skip_h1_title": false,
   "title_cell": "Table of Contents",
   "title_sidebar": "Contents",
   "toc_cell": false,
   "toc_position": {},
   "toc_section_display": true,
   "toc_window_display": false
  }
 },
 "nbformat": 4,
 "nbformat_minor": 5
}
