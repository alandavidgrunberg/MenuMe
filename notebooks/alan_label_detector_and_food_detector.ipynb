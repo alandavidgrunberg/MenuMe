{
 "cells": [
  {
   "cell_type": "code",
   "execution_count": 42,
   "id": "334c457d",
   "metadata": {},
   "outputs": [],
   "source": [
    "def detect_image_labels_uri(uri):\n",
    "    \n",
    "    from google.cloud import vision\n",
    "    client = vision.ImageAnnotatorClient()\n",
    "    image = vision.Image()\n",
    "    image.source.image_uri = uri\n",
    "    \n",
    "    response = client.label_detection(image=image)\n",
    "    return response"
   ]
  },
  {
   "cell_type": "code",
   "execution_count": 44,
   "id": "37e6aaab",
   "metadata": {},
   "outputs": [],
   "source": [
    "photo_1 = detect_image_labels_uri('https://www.wellplated.com/wp-content/uploads/2019/10/Best-Burrata-Pizza.jpg')\n",
    "photo_2 = detect_image_labels_uri('https://upload.wikimedia.org/wikipedia/commons/9/99/IMG-20200708-WA0006.jpg')"
   ]
  },
  {
   "cell_type": "code",
   "execution_count": 45,
   "id": "a0ab78d0",
   "metadata": {},
   "outputs": [],
   "source": [
    "def is_it_food(response):\n",
    "    labels = []\n",
    "    for label in response.label_annotations:\n",
    "        labels.append(label.description)\n",
    "    print(labels)\n",
    "    print()\n",
    "    if 'Food' in labels:\n",
    "        print(\"yes it's food!\")\n",
    "        return True\n",
    "    else:\n",
    "        print(\"no it's not food.\")\n",
    "        return False"
   ]
  },
  {
   "cell_type": "code",
   "execution_count": 46,
   "id": "cc7ece7c",
   "metadata": {},
   "outputs": [
    {
     "name": "stdout",
     "output_type": "stream",
     "text": [
      "['Food', 'Tableware', 'Recipe', 'Fines herbes', 'Ingredient', 'Leaf vegetable', 'Plate', 'Cuisine', 'Dish', 'Garnish']\n",
      "\n",
      "yes it's food!\n"
     ]
    },
    {
     "data": {
      "text/plain": [
       "True"
      ]
     },
     "execution_count": 46,
     "metadata": {},
     "output_type": "execute_result"
    }
   ],
   "source": [
    "is_it_food(photo_1)"
   ]
  },
  {
   "cell_type": "code",
   "execution_count": 47,
   "id": "565f86e1",
   "metadata": {},
   "outputs": [
    {
     "name": "stdout",
     "output_type": "stream",
     "text": [
      "['Cat', 'Carnivore', 'Felidae', 'Iris', 'Small to medium-sized cats', 'Whiskers', 'Fawn', 'Ear', 'Snout', 'Close-up']\n",
      "\n",
      "no it's not food.\n"
     ]
    },
    {
     "data": {
      "text/plain": [
       "False"
      ]
     },
     "execution_count": 47,
     "metadata": {},
     "output_type": "execute_result"
    }
   ],
   "source": [
    "is_it_food(photo_2)"
   ]
  },
  {
   "cell_type": "code",
   "execution_count": null,
   "id": "5f07104a",
   "metadata": {},
   "outputs": [],
   "source": []
  }
 ],
 "metadata": {
  "kernelspec": {
   "display_name": "Python 3 (ipykernel)",
   "language": "python",
   "name": "python3"
  },
  "language_info": {
   "codemirror_mode": {
    "name": "ipython",
    "version": 3
   },
   "file_extension": ".py",
   "mimetype": "text/x-python",
   "name": "python",
   "nbconvert_exporter": "python",
   "pygments_lexer": "ipython3",
   "version": "3.8.12"
  },
  "toc": {
   "base_numbering": 1,
   "nav_menu": {},
   "number_sections": true,
   "sideBar": true,
   "skip_h1_title": false,
   "title_cell": "Table of Contents",
   "title_sidebar": "Contents",
   "toc_cell": false,
   "toc_position": {},
   "toc_section_display": true,
   "toc_window_display": false
  }
 },
 "nbformat": 4,
 "nbformat_minor": 5
}
