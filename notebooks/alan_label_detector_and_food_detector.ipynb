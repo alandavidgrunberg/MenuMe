{
 "cells": [
  {
   "cell_type": "code",
   "execution_count": 2,
   "id": "95e51765",
   "metadata": {},
   "outputs": [],
   "source": [
    "# import os\n",
    "# from dotenv import load_dotenv, find_dotenv\n",
    "# env_path = find_dotenv()\n",
    "# load_dotenv(env_path)\n",
    "# GOOGLE_API_KEY = os.getenv('GOOGLE_API_KEY')\n",
    "# GOOGLE_CX = os.getenv('GOOGLE_CX')"
   ]
  },
  {
   "cell_type": "code",
   "execution_count": 1,
   "id": "5cee545a",
   "metadata": {},
   "outputs": [],
   "source": [
    "def detect_image_labels_uri(uri):\n",
    "    \n",
    "    from google.cloud import vision\n",
    "    client = vision.ImageAnnotatorClient()\n",
    "    image = vision.Image()\n",
    "    image.source.image_uri = uri\n",
    "    \n",
    "    response = client.label_detection(image=image)\n",
    "    return response"
   ]
  },
  {
   "cell_type": "code",
   "execution_count": 59,
   "id": "24e860cd",
   "metadata": {},
   "outputs": [
    {
     "data": {
      "text/plain": [
       "label_annotations {\n",
       "  mid: \"/m/02wbm\"\n",
       "  description: \"Food\"\n",
       "  score: 0.9832574725151062\n",
       "  topicality: 0.9832574725151062\n",
       "}\n",
       "label_annotations {\n",
       "  mid: \"/m/04brg2\"\n",
       "  description: \"Tableware\"\n",
       "  score: 0.9120078682899475\n",
       "  topicality: 0.9120078682899475\n",
       "}\n",
       "label_annotations {\n",
       "  mid: \"/m/0p57p\"\n",
       "  description: \"Recipe\"\n",
       "  score: 0.8757084012031555\n",
       "  topicality: 0.8757084012031555\n",
       "}\n",
       "label_annotations {\n",
       "  mid: \"/m/01bp4g\"\n",
       "  description: \"Fines herbes\"\n",
       "  score: 0.8739068508148193\n",
       "  topicality: 0.8739068508148193\n",
       "}\n",
       "label_annotations {\n",
       "  mid: \"/m/07xgrh\"\n",
       "  description: \"Ingredient\"\n",
       "  score: 0.8653662800788879\n",
       "  topicality: 0.8653662800788879\n",
       "}\n",
       "label_annotations {\n",
       "  mid: \"/m/05f725\"\n",
       "  description: \"Leaf vegetable\"\n",
       "  score: 0.8346108198165894\n",
       "  topicality: 0.8346108198165894\n",
       "}\n",
       "label_annotations {\n",
       "  mid: \"/m/050gv4\"\n",
       "  description: \"Plate\"\n",
       "  score: 0.8300004601478577\n",
       "  topicality: 0.8300004601478577\n",
       "}\n",
       "label_annotations {\n",
       "  mid: \"/m/01ykh\"\n",
       "  description: \"Cuisine\"\n",
       "  score: 0.8161376118659973\n",
       "  topicality: 0.8161376118659973\n",
       "}\n",
       "label_annotations {\n",
       "  mid: \"/m/02q08p0\"\n",
       "  description: \"Dish\"\n",
       "  score: 0.8033103346824646\n",
       "  topicality: 0.8033103346824646\n",
       "}\n",
       "label_annotations {\n",
       "  mid: \"/m/06gpzn\"\n",
       "  description: \"Garnish\"\n",
       "  score: 0.7803741693496704\n",
       "  topicality: 0.7803741693496704\n",
       "}"
      ]
     },
     "execution_count": 59,
     "metadata": {},
     "output_type": "execute_result"
    }
   ],
   "source": [
    "detect_image_labels_uri('https://www.wellplated.com/wp-content/uploads/2019/10/Best-Burrata-Pizza.jpg')"
   ]
  },
  {
   "cell_type": "code",
   "execution_count": 44,
   "id": "b6a4282e",
   "metadata": {},
   "outputs": [],
   "source": [
    "photo_1 = detect_image_labels_uri('https://www.wellplated.com/wp-content/uploads/2019/10/Best-Burrata-Pizza.jpg')\n",
    "photo_2 = detect_image_labels_uri('https://upload.wikimedia.org/wikipedia/commons/9/99/IMG-20200708-WA0006.jpg')"
   ]
  },
  {
   "cell_type": "code",
   "execution_count": 45,
   "id": "3cf954c0",
   "metadata": {},
   "outputs": [],
   "source": [
    "def is_it_food(response):\n",
    "    labels = []\n",
    "    for label in response.label_annotations:\n",
    "        labels.append(label.description)\n",
    "    print(labels)\n",
    "    print()\n",
    "    if 'Food' in labels:\n",
    "        print(\"yes it's food!\")\n",
    "        return True\n",
    "    else:\n",
    "        print(\"no it's not food.\")\n",
    "        return False"
   ]
  },
  {
   "cell_type": "code",
   "execution_count": 46,
   "id": "fc9901d4",
   "metadata": {},
   "outputs": [
    {
     "name": "stdout",
     "output_type": "stream",
     "text": [
      "['Food', 'Tableware', 'Recipe', 'Fines herbes', 'Ingredient', 'Leaf vegetable', 'Plate', 'Cuisine', 'Dish', 'Garnish']\n",
      "\n",
      "yes it's food!\n"
     ]
    },
    {
     "data": {
      "text/plain": [
       "True"
      ]
     },
     "execution_count": 46,
     "metadata": {},
     "output_type": "execute_result"
    }
   ],
   "source": [
    "is_it_food(photo_1)"
   ]
  },
  {
   "cell_type": "code",
   "execution_count": 47,
   "id": "5c723f07",
   "metadata": {},
   "outputs": [
    {
     "name": "stdout",
     "output_type": "stream",
     "text": [
      "['Cat', 'Carnivore', 'Felidae', 'Iris', 'Small to medium-sized cats', 'Whiskers', 'Fawn', 'Ear', 'Snout', 'Close-up']\n",
      "\n",
      "no it's not food.\n"
     ]
    },
    {
     "data": {
      "text/plain": [
       "False"
      ]
     },
     "execution_count": 47,
     "metadata": {},
     "output_type": "execute_result"
    }
   ],
   "source": [
    "is_it_food(photo_2)"
   ]
  },
  {
   "cell_type": "code",
   "execution_count": null,
   "id": "6915d41e",
   "metadata": {},
   "outputs": [],
   "source": [
    "results = gis.search(search_params=_search_params)"
   ]
  }
 ],
 "metadata": {
  "kernelspec": {
   "display_name": "Python 3 (ipykernel)",
   "language": "python",
   "name": "python3"
  },
  "language_info": {
   "codemirror_mode": {
    "name": "ipython",
    "version": 3
   },
   "file_extension": ".py",
   "mimetype": "text/x-python",
   "name": "python",
   "nbconvert_exporter": "python",
   "pygments_lexer": "ipython3",
   "version": "3.8.12"
  },
  "toc": {
   "base_numbering": 1,
   "nav_menu": {},
   "number_sections": true,
   "sideBar": true,
   "skip_h1_title": false,
   "title_cell": "Table of Contents",
   "title_sidebar": "Contents",
   "toc_cell": false,
   "toc_position": {},
   "toc_section_display": true,
   "toc_window_display": false
  }
 },
 "nbformat": 4,
 "nbformat_minor": 5
}
